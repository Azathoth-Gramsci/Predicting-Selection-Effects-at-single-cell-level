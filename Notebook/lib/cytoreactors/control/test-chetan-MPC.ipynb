{
 "cells": [
  {
   "cell_type": "code",
   "execution_count": 1,
   "metadata": {},
   "outputs": [],
   "source": [
    "from cytoreactors.control.MPC import DutyCycleController\n",
    "import cytoreactors.modeling.DIFF_model_all_growers_with_reservoir as model\n",
    "from cytoreactors.modeling.simulation import simulate, simulate_analytic, light_profile_to_traj\n",
    "from time import time\n",
    "import matplotlib.pyplot as plt"
   ]
  },
  {
   "cell_type": "code",
   "execution_count": 2,
   "metadata": {},
   "outputs": [
    {
     "data": {
      "text/plain": [
       "{'mu': 0.4, 'k_diff': 8}"
      ]
     },
     "execution_count": 2,
     "metadata": {},
     "output_type": "execute_result"
    }
   ],
   "source": [
    "pars = model.default_model_pars.copy()\n",
    "pars"
   ]
  },
  {
   "cell_type": "code",
   "execution_count": 3,
   "metadata": {},
   "outputs": [],
   "source": [
    "controller = DutyCycleController(target=0.9, \n",
    "                                 model=model, \n",
    "                                 model_pars=pars,\n",
    "                                 initial_state=[0], \n",
    "                                 dc_period_hrs=0.5, \n",
    "                                 n_cycles_horizon=10)"
   ]
  },
  {
   "cell_type": "code",
   "execution_count": 4,
   "metadata": {},
   "outputs": [
    {
     "name": "stdout",
     "output_type": "stream",
     "text": [
      "0.037462711334228516\n",
      "0.02200484275817871\n",
      "0.04131579399108887\n",
      "0.0312809944152832\n",
      "0.031249284744262695\n",
      "0.0317845344543457\n",
      "0.021656274795532227\n",
      "0.046877384185791016\n",
      "0.03372907638549805\n",
      "0.019156455993652344\n"
     ]
    }
   ],
   "source": [
    "all_lps = []\n",
    "t0 = time()\n",
    "for i in range(10):\n",
    "    dcs = controller.optimize()\n",
    "    print(time()-t0)\n",
    "    t0= time()\n",
    "    lp = controller.dcs_to_light_profile(dcs[:2])\n",
    "    all_lps += lp\n",
    "    t,y,_,_ = simulate_analytic(controller.model, controller.model_pars, lp, controller.current_state, n_evals=21)\n",
    "    controller.current_state = y.transpose()[-1]"
   ]
  },
  {
   "cell_type": "code",
   "execution_count": 5,
   "metadata": {},
   "outputs": [],
   "source": [
    "t,y,_,_ = simulate_analytic(controller.model, controller.model_pars, all_lps, [0], n_evals=21)\n",
    "tl,l = light_profile_to_traj(all_lps)"
   ]
  },
  {
   "cell_type": "code",
   "execution_count": 7,
   "metadata": {},
   "outputs": [
    {
     "data": {
      "image/png": "[encoded data removed]",
      "text/plain": [
       "<Figure size 432x288 with 1 Axes>"
      ]
     },
     "metadata": {
      "needs_background": "light"
     },
     "output_type": "display_data"
    }
   ],
   "source": [
    "plt.plot(t,y[-1],'r')\n",
    "plt.plot([0,10],[controller.target,controller.target],'k')\n",
    "plt.plot(tl,l/100,'b')\n",
    "plt.ylim([0,controller.target*2])\n",
    "plt.grid()"
   ]
  },
  {
   "cell_type": "code",
   "execution_count": null,
   "metadata": {},
   "outputs": [],
   "source": []
  }
 ],
 "metadata": {
  "kernelspec": {
   "display_name": "Python 3",
   "language": "python",
   "name": "python3"
  },
  "language_info": {
   "codemirror_mode": {
    "name": "ipython",
    "version": 3
   },
   "file_extension": ".py",
   "mimetype": "text/x-python",
   "name": "python",
   "nbconvert_exporter": "python",
   "pygments_lexer": "ipython3",
   "version": "3.7.4"
  }
 },
 "nbformat": 4,
 "nbformat_minor": 4
}
